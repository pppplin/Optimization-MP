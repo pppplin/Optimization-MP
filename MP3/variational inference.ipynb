{
 "cells": [
  {
   "cell_type": "code",
   "execution_count": 199,
   "metadata": {},
   "outputs": [],
   "source": [
    "import pickle\n",
    "from  PIL import Image\n",
    "import numpy as np\n",
    "import matplotlib\n",
    "import matplotlib.pyplot as plt\n",
    "from sklearn import cluster\n",
    "from scipy.stats import bernoulli\n",
    "from scipy.stats import multivariate_normal\n",
    "from collections import defaultdict\n",
    "%matplotlib inline "
   ]
  },
  {
   "cell_type": "code",
   "execution_count": 216,
   "metadata": {},
   "outputs": [
    {
     "data": {
      "text/plain": [
       "<matplotlib.image.AxesImage at 0x1a291ab350>"
      ]
     },
     "execution_count": 216,
     "metadata": {},
     "output_type": "execute_result"
    },
    {
     "data": {
      "image/png": "[encoded data removed]",
      "text/plain": [
       "<Figure size 432x288 with 1 Axes>"
      ]
     },
     "metadata": {
      "needs_background": "light"
     },
     "output_type": "display_data"
    }
   ],
   "source": [
    "# get imgs for each class\n",
    "f = open('/Users/fangtiantian/Documents/research/normalization/data/cifar-10-batches-py/data_batch_1', 'rb')\n",
    "\n",
    "tupled_data= pickle.load(f)\n",
    "f.close()\n",
    "labels = tupled_data[b'labels']\n",
    "img = tupled_data[b'data']\n",
    "single_img = np.transpose(np.reshape(img[5],(3, 32,32)), (1,2,0))\n",
    "plt.imshow(single_img)"
   ]
  },
  {
   "cell_type": "code",
   "execution_count": 188,
   "metadata": {},
   "outputs": [],
   "source": [
    "def quantize(raster, n_colors=32):\n",
    "    width, height, depth = raster.shape\n",
    "    reshaped_raster = np.reshape(raster, (width * height, depth))\n",
    "\n",
    "    model = cluster.KMeans(n_clusters=n_colors)\n",
    "    labels = model.fit_predict(reshaped_raster)\n",
    "    palette = model.cluster_centers_.astype(int)\n",
    "    quantized_raster = np.reshape(\n",
    "        palette[labels], (width, height, palette.shape[1]))\n",
    "    return quantized_raster, palette\n",
    "clus_img, colors_palette = quantize(single_img)\n",
    "colors_palette = colors_palette / 255.  #(32, 3)"
   ]
  },
  {
   "cell_type": "code",
   "execution_count": null,
   "metadata": {},
   "outputs": [],
   "source": []
  },
  {
   "cell_type": "code",
   "execution_count": 189,
   "metadata": {},
   "outputs": [],
   "source": [
    "def add_noise(clus_img, colors_palette):\n",
    "    noise_img = clus_img\n",
    "    (h, w, _) = clus_img.shape\n",
    "    for i in range(h):\n",
    "        for j in range(w):\n",
    "            p = bernoulli.rvs(1./32)\n",
    "            if p == 1:\n",
    "                # uniformly choose a color as noise\n",
    "                noise_img[i,j] = colors_palette[np.random.randint(32)]\n",
    "    return noise_img\n",
    "\n",
    "data = add_noise(clus_img, colors_palette)"
   ]
  },
  {
   "cell_type": "code",
   "execution_count": 190,
   "metadata": {},
   "outputs": [
    {
     "data": {
      "text/plain": [
       "<matplotlib.image.AxesImage at 0x1a2852b150>"
      ]
     },
     "execution_count": 190,
     "metadata": {},
     "output_type": "execute_result"
    },
    {
     "data": {
      "image/png": "[encoded data removed]",
      "text/plain": [
       "<Figure size 432x288 with 1 Axes>"
      ]
     },
     "metadata": {
      "needs_background": "light"
     },
     "output_type": "display_data"
    }
   ],
   "source": [
    "plt.imshow(data/255.)"
   ]
  },
  {
   "cell_type": "code",
   "execution_count": 210,
   "metadata": {},
   "outputs": [],
   "source": [
    "#load data\n",
    "img = np.double(data) / 255.\n",
    "img_mean = np.mean(img)\n",
    "[M, N, d] = img.shape\n",
    "\n",
    "#mean-field parameters\n",
    "sigma  = 0.1  #noise level\n",
    "y = img #+ sigma*np.random.randn(M, N, d) #y_i ~ N(x_i; sigma^2);\n",
    "J = 1  #coupling strength (w_ij)\n",
    "rate = 0.5  #update smoothing rate\n",
    "max_iter = 15\n",
    "# ELBO = np.zeros((max_iter, 3))\n",
    "# Hx_mean = np.zeros(max_iter)"
   ]
  },
  {
   "cell_type": "code",
   "execution_count": 192,
   "metadata": {},
   "outputs": [
    {
     "name": "stdout",
     "output_type": "stream",
     "text": [
      "(32, 3)\n"
     ]
    },
    {
     "data": {
      "text/plain": [
       "<matplotlib.image.AxesImage at 0x1a28872a50>"
      ]
     },
     "execution_count": 192,
     "metadata": {},
     "output_type": "execute_result"
    },
    {
     "data": {
      "image/png": "[encoded data removed]",
      "text/plain": [
       "<Figure size 432x288 with 1 Axes>"
      ]
     },
     "metadata": {
      "needs_background": "light"
     },
     "output_type": "display_data"
    }
   ],
   "source": [
    "print(colors_palette.shape)\n",
    "plt.imshow(colors_palette.reshape((1, 32, 3)))"
   ]
  },
  {
   "cell_type": "code",
   "execution_count": 211,
   "metadata": {},
   "outputs": [
    {
     "name": "stdout",
     "output_type": "stream",
     "text": [
      "running mean-field variational inference...\n",
      "(32, 3)\n",
      "(32, 1024)\n",
      "('q', (32, 1024))\n",
      "('mu', (1024, 3))\n",
      "('a', (32, 1024))\n",
      "((32, 32, 3), (32, 1024))\n"
     ]
    }
   ],
   "source": [
    "#Mean-Field VI\n",
    "print(\"running mean-field variational inference...\")\n",
    "# logodds = multivariate_normal.logpdf(y.flatten(), mean=+1, cov=sigma**2) - \\\n",
    "#           multivariate_normal.logpdf(y.flatten(), mean=-1, cov=sigma**2)\n",
    "\n",
    "print(colors_palette.shape)\n",
    "log_L = []\n",
    "for i in range(32):\n",
    "    log_L.append(multivariate_normal.logpdf(y.reshape([-1, 3]), mean=colors_palette[i], cov=sigma**2))\n",
    "log_L = np.array(log_L)\n",
    "print(log_L.shape)\n",
    "denomiator = np.sum(np.exp(log_L), axis=0)\n",
    "q = np.exp(log_L) / denomiator\n",
    "print(\"q\", q.shape)\n",
    "\n",
    "# mu = E_{q_i(x_k)}[x_k]\n",
    "mu = np.transpose(q).dot(colors_palette)\n",
    "print(\"mu\", mu.shape)\n",
    "\n",
    "# a: [32, 1024]\n",
    "a = colors_palette.dot(np.transpose(mu)) + log_L\n",
    "print(\"a\", a.shape)\n",
    "\n",
    "mu = mu.reshape((M, N, 3))\n",
    "# mu = mu.astype(np.int)\n",
    "a = a.astype(np.int)\n",
    "print(mu.shape, a.shape)"
   ]
  },
  {
   "cell_type": "code",
   "execution_count": 9,
   "metadata": {
    "collapsed": true
   },
   "outputs": [
    {
     "name": "stdout",
     "output_type": "stream",
     "text": [
      "[[[0.63137255 0.46666667 0.41176471]\n",
      "  [0.60392157 0.36078431 0.31372549]\n",
      "  [0.60392157 0.36078431 0.31372549]\n",
      "  ...\n",
      "  [0.38039216 0.27843137 0.24705882]\n",
      "  [0.31372549 0.22352941 0.2       ]\n",
      "  [0.31372549 0.22352941 0.2       ]]\n",
      "\n",
      " [[0.48627451 0.27058824 0.23529412]\n",
      "  [0.61960784 0.25490196 0.19607843]\n",
      "  [0.61960784 0.25490196 0.19607843]\n",
      "  ...\n",
      "  [0.49411765 0.38823529 0.34117647]\n",
      "  [0.49411765 0.38823529 0.34117647]\n",
      "  [0.38039216 0.27843137 0.24705882]]\n",
      "\n",
      " [[0.38039216 0.27843137 0.24705882]\n",
      "  [0.38039216 0.27843137 0.24705882]\n",
      "  [0.38039216 0.27843137 0.24705882]\n",
      "  ...\n",
      "  [0.49411765 0.38823529 0.34117647]\n",
      "  [0.63137255 0.46666667 0.41176471]\n",
      "  [0.38039216 0.27843137 0.24705882]]\n",
      "\n",
      " ...\n",
      "\n",
      " [[0.94901961 0.49019608 0.26666667]\n",
      "  [0.94901961 0.49019608 0.26666667]\n",
      "  [0.94901961 0.49019608 0.26666667]\n",
      "  ...\n",
      "  [0.62745098 0.16862745 0.09019608]\n",
      "  [0.7372549  0.18431373 0.10980392]\n",
      "  [0.76862745 0.28235294 0.19607843]]\n",
      "\n",
      " [[0.94901961 0.49019608 0.26666667]\n",
      "  [0.94901961 0.49019608 0.26666667]\n",
      "  [0.94901961 0.49019608 0.26666667]\n",
      "  ...\n",
      "  [0.62745098 0.16862745 0.09019608]\n",
      "  [0.7372549  0.18431373 0.10980392]\n",
      "  [0.7372549  0.18431373 0.10980392]]\n",
      "\n",
      " [[0.94901961 0.49019608 0.26666667]\n",
      "  [0.94901961 0.49019608 0.26666667]\n",
      "  [0.94901961 0.49019608 0.26666667]\n",
      "  ...\n",
      "  [0.62745098 0.16862745 0.09019608]\n",
      "  [0.62745098 0.16862745 0.09019608]\n",
      "  [0.7372549  0.18431373 0.10980392]]]\n"
     ]
    }
   ],
   "source": [
    "print(data / 255.)"
   ]
  },
  {
   "cell_type": "code",
   "execution_count": 59,
   "metadata": {
    "scrolled": true
   },
   "outputs": [
    {
     "data": {
      "text/plain": [
       "<matplotlib.image.AxesImage at 0x1a23f16f10>"
      ]
     },
     "execution_count": 59,
     "metadata": {},
     "output_type": "execute_result"
    },
    {
     "data": {
      "image/png": "[encoded data removed]",
      "text/plain": [
       "<Figure size 432x288 with 1 Axes>"
      ]
     },
     "metadata": {
      "needs_background": "light"
     },
     "output_type": "display_data"
    }
   ],
   "source": [
    "plt.imshow(mu)"
   ]
  },
  {
   "cell_type": "code",
   "execution_count": 53,
   "metadata": {
    "collapsed": true
   },
   "outputs": [
    {
     "name": "stdout",
     "output_type": "stream",
     "text": [
      "[[[0.36078431 0.14901961 0.11764706]\n",
      "  [0.36078431 0.14901961 0.11764706]\n",
      "  [0.36078431 0.14901961 0.11764706]\n",
      "  ...\n",
      "  [0.36078431 0.14901961 0.11764706]\n",
      "  [0.36078431 0.14901961 0.11764706]\n",
      "  [0.36078431 0.14901961 0.11764706]]\n",
      "\n",
      " [[0.36078431 0.14901961 0.11764706]\n",
      "  [0.36078431 0.14901961 0.11764706]\n",
      "  [0.36078431 0.14901961 0.11764706]\n",
      "  ...\n",
      "  [0.36078431 0.14901961 0.11764706]\n",
      "  [0.36078431 0.14901961 0.11764706]\n",
      "  [0.36078431 0.14901961 0.11764706]]\n",
      "\n",
      " [[0.36078431 0.14901961 0.11764706]\n",
      "  [0.36078431 0.14901961 0.11764706]\n",
      "  [0.36078431 0.14901961 0.11764706]\n",
      "  ...\n",
      "  [0.36078431 0.14901961 0.11764706]\n",
      "  [0.36078431 0.14901961 0.11764706]\n",
      "  [0.36078431 0.14901961 0.11764706]]\n",
      "\n",
      " ...\n",
      "\n",
      " [[0.36078431 0.14901961 0.11764706]\n",
      "  [0.36078431 0.14901961 0.11764706]\n",
      "  [0.36078431 0.14901961 0.11764706]\n",
      "  ...\n",
      "  [0.36078431 0.14901961 0.11764706]\n",
      "  [0.36078431 0.14901961 0.11764706]\n",
      "  [0.36078431 0.14901961 0.11764706]]\n",
      "\n",
      " [[0.36078431 0.14901961 0.11764706]\n",
      "  [0.36078431 0.14901961 0.11764706]\n",
      "  [0.36078431 0.14901961 0.11764706]\n",
      "  ...\n",
      "  [0.36078431 0.14901961 0.11764706]\n",
      "  [0.36078431 0.14901961 0.11764706]\n",
      "  [0.36078431 0.14901961 0.11764706]]\n",
      "\n",
      " [[0.36078431 0.14901961 0.11764706]\n",
      "  [0.36078431 0.14901961 0.11764706]\n",
      "  [0.36078431 0.14901961 0.11764706]\n",
      "  ...\n",
      "  [0.36078431 0.14901961 0.11764706]\n",
      "  [0.36078431 0.14901961 0.11764706]\n",
      "  [0.36078431 0.14901961 0.11764706]]]\n"
     ]
    }
   ],
   "source": [
    "print(mu)"
   ]
  },
  {
   "cell_type": "code",
   "execution_count": 212,
   "metadata": {},
   "outputs": [
    {
     "name": "stderr",
     "output_type": "stream",
     "text": [
      "\n",
      "  0%|          | 0/1 [00:00<?, ?it/s]\u001b[A\n",
      "100%|██████████| 1/1 [00:17<00:00, 17.76s/it]\u001b[A\n",
      "\u001b[A"
     ]
    }
   ],
   "source": [
    "from collections import defaultdict\n",
    "max_iter = 1\n",
    "rate = 0.5\n",
    "from tqdm import tqdm\n",
    "\n",
    "for i in tqdm(range(max_iter)):\n",
    "    muNew = mu\n",
    "    # m_mat = np.zeros((M, N, 3))\n",
    "    # print(mu.shape)\n",
    "    for ix in range(N):\n",
    "        for iy in range(M):\n",
    "            pos = iy + M * ix\n",
    "            neighborhood = pos + np.array([-1, 1, -M, M])            \n",
    "            boundary_idx = [iy != 0, iy != M - 1, ix != 0, ix != N - 1]\n",
    "            neighborhood = neighborhood[np.where(boundary_idx)[0]]            \n",
    "            xx, yy = np.unravel_index(pos, (M,N), order='F')\n",
    "            nx, ny = np.unravel_index(neighborhood, (M,N), order='F')\n",
    "#             print muNew[xx,yy]#,nx,ny\n",
    "            \n",
    "            # 周围邻居mu的和\n",
    "#             Sbar = J*np.sum(mu[nx,ny, :], axis=0).reshape((3, 1))\n",
    "#             print nx.shape\n",
    "#             import sys; sys.exit(1)\n",
    "            neigh = np.zeros((32, 1))\n",
    "            cur_N = np.zeros((32, 1))\n",
    "            for k in range(32):\n",
    "                cur_N[k] = multivariate_normal.logpdf(muNew[xx, yy], mean=colors_palette[k], cov=sigma**2)\n",
    "                for dd in range(nx.shape[0]):\n",
    "                    neigh[k] = multivariate_normal.logpdf(muNew[nx[dd], ny[dd]], mean=colors_palette[k], cov=sigma**2)\n",
    "                \n",
    "                \n",
    "            update_part_1 = neigh + cur_N \n",
    "#             update_part_1 = colors_palette.dot(Sbar) #+ cur_N \n",
    "#             print update_part_1            \n",
    "            \n",
    "            # print(cur_update)\n",
    "            cur_update_prob = np.exp(update_part_1) / np.sum(np.exp(update_part_1))\n",
    "#             cur_update = np.transpose(cur_update_prob).dot(colors_palette).reshape(-1)\n",
    "            cur_update = colors_palette[np.argmax(cur_update_prob)]\n",
    "#             print np.argmax(cur_update_prob), colors_palette[np.argmax(cur_update_prob)]\n",
    "\n",
    "   \n",
    "            muNew[xx, yy] = (1 - rate) * muNew[xx, yy, :] + rate * cur_update\n",
    "#             muNew[xx, yy] = cur_update\n",
    "            # ELBO[i] = ELBO[i] + 0.5*(Sbar * muNew[xx,yy, :])\n",
    "        #end for\n",
    "    #end for\n",
    "    mu = muNew\n",
    "        \n",
    "    # colors: [32, 3] * mu: [3, 1024]\n",
    "    # print(colors_palette.dot(np.transpose(mu.reshape((-1, 3)))).shape)\n",
    "    # a = colors_palette.dot(np.transpose(mu.reshape((-1, 3)))) + log_L\n",
    "    # print(a.shape)\n",
    "    # q = np.exp(a) / np.sum(np.exp(a), axis=0).reshape((1, -1))\n",
    "    # print(q.shape)\n",
    "    \n",
    "    # qxp1 = sigmoid(+2*a) #q_i(x_i=+1)\n",
    "    # qxm1 = sigmoid(-2*a) #q_i(x_i=-1)    \n",
    "    # Hx = -qxm1*np.log(qxm1+1e-10) - qxp1*np.log(qxp1+1e-10) #entropy        \n",
    "    \n",
    "    # ELBO[i] = ELBO[i] + np.sum(qxp1*logp1 + qxm1*logm1) + np.sum(Hx)\n",
    "    # Hx_mean[i] = np.mean(Hx) "
   ]
  },
  {
   "cell_type": "code",
   "execution_count": null,
   "metadata": {},
   "outputs": [],
   "source": []
  },
  {
   "cell_type": "code",
   "execution_count": 77,
   "metadata": {},
   "outputs": [
    {
     "data": {
      "text/plain": [
       "-13.396078431372548"
      ]
     },
     "execution_count": 77,
     "metadata": {},
     "output_type": "execute_result"
    }
   ],
   "source": [
    "# old copy in case\n",
    "from collections import defaultdict\n",
    "max_iter = 1\n",
    "rate = 0.5\n",
    "from tqdm import tqdm\n",
    "\n",
    "for i in tqdm(range(max_iter)):\n",
    "    muNew = mu\n",
    "    # m_mat = np.zeros((M, N, 3))\n",
    "    # print(mu.shape)\n",
    "    for ix in range(N):\n",
    "        for iy in range(M):\n",
    "            pos = iy + M * ix\n",
    "            neighborhood = pos + np.array([-1, 1, -M, M])            \n",
    "            boundary_idx = [iy != 0, iy != M - 1, ix != 0, ix != N - 1]\n",
    "            neighborhood = neighborhood[np.where(boundary_idx)[0]]            \n",
    "            xx, yy = np.unravel_index(pos, (M,N), order='F')\n",
    "            nx, ny = np.unravel_index(neighborhood, (M,N), order='F')\n",
    "#             print muNew[xx,yy]#,nx,ny\n",
    "            \n",
    "            # 周围邻居mu的和\n",
    "#             Sbar = J*np.sum(mu[nx,ny, :], axis=0).reshape((3, 1))\n",
    "#             print nx.shape\n",
    "#             import sys; sys.exit(1)\n",
    "            neigh = np.zeros((32, 1))\n",
    "            cur_N = np.zeros((32, 1))\n",
    "            for k in range(32):\n",
    "                cur_N[k] = multivariate_normal.logpdf(muNew[xx, yy], mean=colors_palette[k], cov=sigma**2)\n",
    "                for dd in range(nx.shape[0]):\n",
    "                    neigh[k] = multivariate_normal.logpdf(muNew[nx[dd], ny[dd]], mean=colors_palette[k], cov=sigma**2)\n",
    "                \n",
    "                \n",
    "            update_part_1 = neigh + cur_N \n",
    "#             update_part_1 = colors_palette.dot(Sbar) #+ cur_N \n",
    "#             print update_part_1            \n",
    "            \n",
    "            # print(cur_update)\n",
    "            cur_update_prob = np.exp(update_part_1) / np.sum(np.exp(update_part_1))\n",
    "#             cur_update = np.transpose(cur_update_prob).dot(colors_palette).reshape(-1)\n",
    "            cur_update = colors_palette[np.argmax(cur_update_prob)]\n",
    "#             print np.argmax(cur_update_prob), colors_palette[np.argmax(cur_update_prob)]\n",
    "\n",
    "   \n",
    "            muNew[xx, yy] = (1 - rate) * muNew[xx, yy, :] + rate * cur_update\n",
    "#             muNew[xx, yy] = cur_update\n",
    "            # ELBO[i] = ELBO[i] + 0.5*(Sbar * muNew[xx,yy, :])\n",
    "        #end for\n",
    "    #end for\n",
    "    mu = muNew\n",
    "        \n",
    "    # colors: [32, 3] * mu: [3, 1024]\n",
    "    # print(colors_palette.dot(np.transpose(mu.reshape((-1, 3)))).shape)\n",
    "    # a = colors_palette.dot(np.transpose(mu.reshape((-1, 3)))) + log_L\n",
    "    # print(a.shape)\n",
    "    # q = np.exp(a) / np.sum(np.exp(a), axis=0).reshape((1, -1))\n",
    "    # print(q.shape)\n",
    "    \n",
    "    # qxp1 = sigmoid(+2*a) #q_i(x_i=+1)\n",
    "    # qxm1 = sigmoid(-2*a) #q_i(x_i=-1)    \n",
    "    # Hx = -qxm1*np.log(qxm1+1e-10) - qxp1*np.log(qxp1+1e-10) #entropy        \n",
    "    \n",
    "    # ELBO[i] = ELBO[i] + np.sum(qxp1*logp1 + qxm1*logm1) + np.sum(Hx)\n",
    "    # Hx_mean[i] = np.mean(Hx) "
   ]
  },
  {
   "cell_type": "code",
   "execution_count": 220,
   "metadata": {
    "scrolled": true
   },
   "outputs": [
    {
     "data": {
      "image/png": "[encoded data removed]",
      "text/plain": [
       "<Figure size 432x288 with 1 Axes>"
      ]
     },
     "metadata": {
      "needs_background": "light"
     },
     "output_type": "display_data"
    }
   ],
   "source": [
    "single_img = np.transpose(np.reshape(img[5],(3, 32,32)), (1,2,0))\n",
    "plt.imshow(single_img)\n",
    "\n",
    "clus_img, colors_palette = quantize(single_img)\n",
    "colors_palette = colors_palette  #(32, 3)\n",
    "data = add_noise(clus_img, colors_palette)"
   ]
  },
  {
   "cell_type": "code",
   "execution_count": 229,
   "metadata": {},
   "outputs": [
    {
     "data": {
      "text/plain": [
       "<matplotlib.image.AxesImage at 0x1a295d7690>"
      ]
     },
     "execution_count": 229,
     "metadata": {},
     "output_type": "execute_result"
    },
    {
     "data": {
      "image/png": "[encoded data removed]",
      "text/plain": [
       "<Figure size 432x288 with 1 Axes>"
      ]
     },
     "metadata": {
      "needs_background": "light"
     },
     "output_type": "display_data"
    }
   ],
   "source": [
    "plt.imshow(data)"
   ]
  },
  {
   "cell_type": "code",
   "execution_count": 230,
   "metadata": {},
   "outputs": [
    {
     "name": "stderr",
     "output_type": "stream",
     "text": [
      "\n",
      "  0%|          | 0/5 [00:00<?, ?it/s]\u001b[A\n",
      " 20%|██        | 1/5 [00:18<01:14, 18.66s/it]\u001b[A\n",
      " 40%|████      | 2/5 [00:38<00:56, 18.93s/it]\u001b[A\n",
      " 60%|██████    | 3/5 [00:58<00:38, 19.29s/it]\u001b[A\n",
      " 80%|████████  | 4/5 [01:16<00:18, 18.95s/it]\u001b[A\n",
      "100%|██████████| 5/5 [01:36<00:00, 19.22s/it]\u001b[A\n",
      "\u001b[A"
     ]
    }
   ],
   "source": [
    "clean = denoise(data, colors_palette / 255.)"
   ]
  },
  {
   "cell_type": "code",
   "execution_count": 231,
   "metadata": {
    "scrolled": true
   },
   "outputs": [
    {
     "data": {
      "text/plain": [
       "<matplotlib.image.AxesImage at 0x1a2941f150>"
      ]
     },
     "execution_count": 231,
     "metadata": {},
     "output_type": "execute_result"
    },
    {
     "data": {
      "image/png": "[encoded data removed]",
      "text/plain": [
       "<Figure size 432x288 with 1 Axes>"
      ]
     },
     "metadata": {
      "needs_background": "light"
     },
     "output_type": "display_data"
    }
   ],
   "source": [
    "plt.imshow(clean)"
   ]
  },
  {
   "cell_type": "code",
   "execution_count": null,
   "metadata": {},
   "outputs": [],
   "source": []
  }
 ],
 "metadata": {
  "kernelspec": {
   "display_name": "Python 2",
   "language": "python",
   "name": "python2"
  },
  "language_info": {
   "codemirror_mode": {
    "name": "ipython",
    "version": 2
   },
   "file_extension": ".py",
   "mimetype": "text/x-python",
   "name": "python",
   "nbconvert_exporter": "python",
   "pygments_lexer": "ipython2",
   "version": "2.7.15"
  }
 },
 "nbformat": 4,
 "nbformat_minor": 2
}
