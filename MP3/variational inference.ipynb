{
 "cells": [
  {
   "cell_type": "code",
   "execution_count": 1,
   "metadata": {},
   "outputs": [],
   "source": [
    "import pickle\n",
    "from  PIL import Image\n",
    "import numpy as np\n",
    "import matplotlib\n",
    "import matplotlib.pyplot as plt\n",
    "from sklearn import cluster\n",
    "from scipy.stats import bernoulli\n",
    "from scipy.stats import multivariate_normal\n",
    "from collections import defaultdict\n",
    "%matplotlib inline "
   ]
  },
  {
   "cell_type": "code",
   "execution_count": 2,
   "metadata": {},
   "outputs": [
    {
     "data": {
      "text/plain": [
       "<matplotlib.image.AxesImage at 0x11a6c7cc0>"
      ]
     },
     "execution_count": 2,
     "metadata": {},
     "output_type": "execute_result"
    },
    {
     "data": {
      "image/png": "[encoded data removed]",
      "text/plain": [
       "<Figure size 432x288 with 1 Axes>"
      ]
     },
     "metadata": {},
     "output_type": "display_data"
    }
   ],
   "source": [
    "# get imgs for each class\n",
    "f = open('./data_batch_1', 'rb')\n",
    "\n",
    "tupled_data= pickle.load(f, encoding='bytes')\n",
    "f.close()\n",
    "labels = tupled_data[b'labels']\n",
    "img = tupled_data[b'data']\n",
    "single_img = np.transpose(np.reshape(img[5],(3, 32,32)), (1,2,0))\n",
    "plt.imshow(single_img)"
   ]
  },
  {
   "cell_type": "code",
   "execution_count": 3,
   "metadata": {},
   "outputs": [],
   "source": [
    "def quantize(raster, n_colors=32):\n",
    "    width, height, depth = raster.shape\n",
    "    reshaped_raster = np.reshape(raster, (width * height, depth))\n",
    "\n",
    "    model = cluster.KMeans(n_clusters=n_colors)\n",
    "    labels = model.fit_predict(reshaped_raster)\n",
    "    palette = model.cluster_centers_.astype(int)\n",
    "    quantized_raster = np.reshape(\n",
    "        palette[labels], (width, height, palette.shape[1]))\n",
    "    return quantized_raster, palette\n",
    "clus_img, colors_palette = quantize(single_img)\n",
    "colors_palette = colors_palette / 255"
   ]
  },
  {
   "cell_type": "code",
   "execution_count": 4,
   "metadata": {},
   "outputs": [],
   "source": [
    "def add_noise(clus_img, colors_palette):\n",
    "    noise_img = clus_img\n",
    "    (h, w, _) = clus_img.shape\n",
    "    for i in range(h):\n",
    "        for j in range(w):\n",
    "            p = bernoulli.rvs(1./32)\n",
    "            if p == 1:\n",
    "                # uniformly choose a color as noise\n",
    "                noise_img[i,j] = colors_palette[np.random.randint(32)]\n",
    "    return noise_img\n",
    "\n",
    "data = add_noise(clus_img, colors_palette)"
   ]
  },
  {
   "cell_type": "code",
   "execution_count": 5,
   "metadata": {},
   "outputs": [
    {
     "data": {
      "text/plain": [
       "<matplotlib.image.AxesImage at 0x105a3f908>"
      ]
     },
     "execution_count": 5,
     "metadata": {},
     "output_type": "execute_result"
    },
    {
     "data": {
      "image/png": "[encoded data removed]",
      "text/plain": [
       "<Figure size 432x288 with 1 Axes>"
      ]
     },
     "metadata": {},
     "output_type": "display_data"
    }
   ],
   "source": [
    "plt.imshow(data / 255)"
   ]
  },
  {
   "cell_type": "code",
   "execution_count": 6,
   "metadata": {},
   "outputs": [],
   "source": [
    "#load data\n",
    "img = np.double(data) / 255\n",
    "img_mean = np.mean(img)\n",
    "[M, N, d] = img.shape\n",
    "\n",
    "#mean-field parameters\n",
    "sigma  = 0.1  #noise level\n",
    "y = img #+ sigma*np.random.randn(M, N, d) #y_i ~ N(x_i; sigma^2);\n",
    "J = 1  #coupling strength (w_ij)\n",
    "rate = 0.5  #update smoothing rate\n",
    "max_iter = 15\n",
    "# ELBO = np.zeros((max_iter, 3))\n",
    "# Hx_mean = np.zeros(max_iter)"
   ]
  },
  {
   "cell_type": "code",
   "execution_count": 7,
   "metadata": {},
   "outputs": [
    {
     "name": "stdout",
     "output_type": "stream",
     "text": [
      "(32, 3)\n"
     ]
    },
    {
     "data": {
      "text/plain": [
       "<matplotlib.image.AxesImage at 0x11a706e48>"
      ]
     },
     "execution_count": 7,
     "metadata": {},
     "output_type": "execute_result"
    },
    {
     "data": {
      "image/png": "[encoded data removed]",
      "text/plain": [
       "<Figure size 432x288 with 1 Axes>"
      ]
     },
     "metadata": {},
     "output_type": "display_data"
    }
   ],
   "source": [
    "print(colors_palette.shape)\n",
    "plt.imshow(colors_palette.reshape((1, 32, 3)))"
   ]
  },
  {
   "cell_type": "code",
   "execution_count": 8,
   "metadata": {},
   "outputs": [
    {
     "name": "stdout",
     "output_type": "stream",
     "text": [
      "running mean-field variational inference...\n",
      "(32, 3)\n",
      "(32, 1024)\n",
      "q (32, 1024)\n",
      "mu (1024, 3)\n",
      "a (32, 1024)\n",
      "(32, 32, 3) (32, 1024)\n"
     ]
    }
   ],
   "source": [
    "#Mean-Field VI\n",
    "print(\"running mean-field variational inference...\")\n",
    "# logodds = multivariate_normal.logpdf(y.flatten(), mean=+1, cov=sigma**2) - \\\n",
    "#           multivariate_normal.logpdf(y.flatten(), mean=-1, cov=sigma**2)\n",
    "\n",
    "print(colors_palette.shape)\n",
    "log_L = []\n",
    "for i in range(32):\n",
    "    log_L.append(multivariate_normal.logpdf(y.reshape([-1, 3]), mean=colors_palette[i], cov=sigma**2))\n",
    "log_L = np.array(log_L)\n",
    "print(log_L.shape)\n",
    "denomiator = np.sum(np.exp(log_L), axis=0)\n",
    "q = np.exp(log_L) / denomiator\n",
    "print(\"q\", q.shape)\n",
    "\n",
    "# mu = E_{q_i(x_k)}[x_k]\n",
    "mu = np.transpose(q).dot(colors_palette)\n",
    "print(\"mu\", mu.shape)\n",
    "\n",
    "# a: [32, 1024]\n",
    "a = colors_palette.dot(np.transpose(mu)) + log_L\n",
    "print(\"a\", a.shape)\n",
    "\n",
    "mu = mu.reshape((M, N, 3))\n",
    "# mu = mu.astype(np.int)\n",
    "a = a.astype(np.int)\n",
    "print(mu.shape, a.shape)"
   ]
  },
  {
   "cell_type": "code",
   "execution_count": 9,
   "metadata": {},
   "outputs": [
    {
     "name": "stdout",
     "output_type": "stream",
     "text": [
      "[[[0.63137255 0.46666667 0.41176471]\n",
      "  [0.60392157 0.36078431 0.31372549]\n",
      "  [0.60392157 0.36078431 0.31372549]\n",
      "  ...\n",
      "  [0.38039216 0.27843137 0.24705882]\n",
      "  [0.31372549 0.22352941 0.2       ]\n",
      "  [0.31372549 0.22352941 0.2       ]]\n",
      "\n",
      " [[0.48627451 0.27058824 0.23529412]\n",
      "  [0.61960784 0.25490196 0.19607843]\n",
      "  [0.61960784 0.25490196 0.19607843]\n",
      "  ...\n",
      "  [0.49411765 0.38823529 0.34117647]\n",
      "  [0.49411765 0.38823529 0.34117647]\n",
      "  [0.38039216 0.27843137 0.24705882]]\n",
      "\n",
      " [[0.38039216 0.27843137 0.24705882]\n",
      "  [0.38039216 0.27843137 0.24705882]\n",
      "  [0.38039216 0.27843137 0.24705882]\n",
      "  ...\n",
      "  [0.49411765 0.38823529 0.34117647]\n",
      "  [0.63137255 0.46666667 0.41176471]\n",
      "  [0.38039216 0.27843137 0.24705882]]\n",
      "\n",
      " ...\n",
      "\n",
      " [[0.94901961 0.49019608 0.26666667]\n",
      "  [0.94901961 0.49019608 0.26666667]\n",
      "  [0.94901961 0.49019608 0.26666667]\n",
      "  ...\n",
      "  [0.62745098 0.16862745 0.09019608]\n",
      "  [0.7372549  0.18431373 0.10980392]\n",
      "  [0.76862745 0.28235294 0.19607843]]\n",
      "\n",
      " [[0.94901961 0.49019608 0.26666667]\n",
      "  [0.94901961 0.49019608 0.26666667]\n",
      "  [0.94901961 0.49019608 0.26666667]\n",
      "  ...\n",
      "  [0.62745098 0.16862745 0.09019608]\n",
      "  [0.7372549  0.18431373 0.10980392]\n",
      "  [0.7372549  0.18431373 0.10980392]]\n",
      "\n",
      " [[0.94901961 0.49019608 0.26666667]\n",
      "  [0.94901961 0.49019608 0.26666667]\n",
      "  [0.94901961 0.49019608 0.26666667]\n",
      "  ...\n",
      "  [0.62745098 0.16862745 0.09019608]\n",
      "  [0.62745098 0.16862745 0.09019608]\n",
      "  [0.7372549  0.18431373 0.10980392]]]\n"
     ]
    }
   ],
   "source": [
    "print(data / 255)"
   ]
  },
  {
   "cell_type": "code",
   "execution_count": 10,
   "metadata": {},
   "outputs": [
    {
     "data": {
      "text/plain": [
       "<matplotlib.image.AxesImage at 0x11a73c9b0>"
      ]
     },
     "execution_count": 10,
     "metadata": {},
     "output_type": "execute_result"
    },
    {
     "data": {
      "image/png": "[encoded data removed]",
      "text/plain": [
       "<Figure size 432x288 with 1 Axes>"
      ]
     },
     "metadata": {},
     "output_type": "display_data"
    }
   ],
   "source": [
    "plt.imshow(data)"
   ]
  },
  {
   "cell_type": "code",
   "execution_count": 11,
   "metadata": {},
   "outputs": [
    {
     "name": "stdout",
     "output_type": "stream",
     "text": [
      "-87.87719147387436\n"
     ]
    }
   ],
   "source": [
    "print(np.mean(mu - data))"
   ]
  },
  {
   "cell_type": "code",
   "execution_count": 12,
   "metadata": {},
   "outputs": [
    {
     "name": "stderr",
     "output_type": "stream",
     "text": [
      "100%|██████████| 1/1 [00:04<00:00,  4.83s/it]\n"
     ]
    }
   ],
   "source": [
    "max_iter = 1\n",
    "rate = 1\n",
    "from tqdm import tqdm\n",
    "\n",
    "for i in tqdm(range(max_iter)):\n",
    "    muNew = mu\n",
    "    # m_mat = np.zeros((M, N, 3))\n",
    "    # print(mu.shape)\n",
    "    for ix in range(N):\n",
    "        for iy in range(M):\n",
    "            pos = iy + M * ix\n",
    "            neighborhood = pos + np.array([-1, 1, -M, M])            \n",
    "            boundary_idx = [iy != 0, iy != M - 1, ix != 0, ix != N - 1]\n",
    "            neighborhood = neighborhood[np.where(boundary_idx)[0]]            \n",
    "            xx, yy = np.unravel_index(pos, (M,N), order='F')\n",
    "            nx, ny = np.unravel_index(neighborhood, (M,N), order='F')\n",
    "            \n",
    "            Sbar = J*np.sum(mu[nx,ny, :], axis=0).reshape((3, 1))\n",
    "            # print(colors_palette.dot(Sbar).shape)\n",
    "            \n",
    "            # print(Sbar.shape)\n",
    "            # print(np.transpose(log_L).dot(colors_palette).reshape((M, N, 3)).shape)\n",
    "            cur_N = np.zeros((32, 1))\n",
    "            for k in range(32):\n",
    "                cur_N[i, 0] = multivariate_normal.logpdf(muNew[xx, yy], mean=colors_palette[k], cov=sigma**2)\n",
    "            update_part_1 = colors_palette.dot(Sbar) + cur_N\n",
    "            # print(cur_update)\n",
    "            cur_update_prob = np.exp(update_part_1 - np.max(update_part_1)) / np.sum(np.exp(update_part_1 - np.max(update_part_1)))\n",
    "            # cur_update = np.transpose(cur_update_prob).dot(colors_palette).reshape(-1)\n",
    "            cur_update = colors_palette[np.argmax(cur_update_prob)]\n",
    "            # print(cur_update.shape)\n",
    "            # import sys\n",
    "            # sys.exit(1)\n",
    "            \n",
    "            # muNew[xx, yy] = (1 - rate) * muNew[xx, yy, :] + rate * cur_update\n",
    "            muNew[xx, yy] = cur_update\n",
    "            # ELBO[i] = ELBO[i] + 0.5*(Sbar * muNew[xx,yy, :])\n",
    "        #end for\n",
    "    #end for\n",
    "    mu = muNew\n",
    "        \n",
    "    # colors: [32, 3] * mu: [3, 1024]\n",
    "    # print(colors_palette.dot(np.transpose(mu.reshape((-1, 3)))).shape)\n",
    "    # a = colors_palette.dot(np.transpose(mu.reshape((-1, 3)))) + log_L\n",
    "    # print(a.shape)\n",
    "    # q = np.exp(a) / np.sum(np.exp(a), axis=0).reshape((1, -1))\n",
    "    # print(q.shape)\n",
    "    \n",
    "    # qxp1 = sigmoid(+2*a) #q_i(x_i=+1)\n",
    "    # qxm1 = sigmoid(-2*a) #q_i(x_i=-1)    \n",
    "    # Hx = -qxm1*np.log(qxm1+1e-10) - qxp1*np.log(qxp1+1e-10) #entropy        \n",
    "    \n",
    "    # ELBO[i] = ELBO[i] + np.sum(qxp1*logp1 + qxm1*logm1) + np.sum(Hx)\n",
    "    # Hx_mean[i] = np.mean(Hx) "
   ]
  },
  {
   "cell_type": "code",
   "execution_count": 13,
   "metadata": {},
   "outputs": [
    {
     "name": "stdout",
     "output_type": "stream",
     "text": [
      "(32, 32, 3) float64\n"
     ]
    }
   ],
   "source": [
    "print(mu.shape, mu.dtype)"
   ]
  },
  {
   "cell_type": "code",
   "execution_count": 14,
   "metadata": {},
   "outputs": [
    {
     "data": {
      "text/plain": [
       "<matplotlib.image.AxesImage at 0x120f3c908>"
      ]
     },
     "execution_count": 14,
     "metadata": {},
     "output_type": "execute_result"
    },
    {
     "data": {
      "image/png": "[encoded data removed]",
      "text/plain": [
       "<Figure size 432x288 with 1 Axes>"
      ]
     },
     "metadata": {},
     "output_type": "display_data"
    }
   ],
   "source": [
    "plt.imshow(mu)"
   ]
  },
  {
   "cell_type": "code",
   "execution_count": 45,
   "metadata": {},
   "outputs": [
    {
     "data": {
      "text/plain": [
       "-2.3025850929940455"
      ]
     },
     "execution_count": 45,
     "metadata": {},
     "output_type": "execute_result"
    }
   ],
   "source": [
    "np.log(0.1)"
   ]
  },
  {
   "cell_type": "code",
   "execution_count": null,
   "metadata": {},
   "outputs": [],
   "source": []
  }
 ],
 "metadata": {
  "kernelspec": {
   "display_name": "Python 3",
   "language": "python",
   "name": "python3"
  },
  "language_info": {
   "codemirror_mode": {
    "name": "ipython",
    "version": 3
   },
   "file_extension": ".py",
   "mimetype": "text/x-python",
   "name": "python",
   "nbconvert_exporter": "python",
   "pygments_lexer": "ipython3",
   "version": "3.5.2"
  }
 },
 "nbformat": 4,
 "nbformat_minor": 2
}
