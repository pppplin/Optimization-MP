{
 "cells": [
  {
   "cell_type": "code",
   "execution_count": 3,
   "metadata": {
    "collapsed": true
   },
   "outputs": [],
   "source": [
    "import numpy as np\n",
    "from sklearn.preprocessing import OneHotEncoder\n",
    "from sklearn import model_selection, metrics, datasets\n",
    "#from neupy import algorithms, layers\n",
    "from scipy.misc import imresize\n",
    "import scipy"
   ]
  },
  {
   "cell_type": "code",
   "execution_count": 2,
   "metadata": {},
   "outputs": [
    {
     "ename": "NameError",
     "evalue": "name 'minimize' is not defined",
     "output_type": "error",
     "traceback": [
      "\u001b[0;31m---------------------------------------------------------------------------\u001b[0m",
      "\u001b[0;31mNameError\u001b[0m                                 Traceback (most recent call last)",
      "\u001b[0;32m<ipython-input-2-d8ee13304100>\u001b[0m in \u001b[0;36m<module>\u001b[0;34m()\u001b[0m\n\u001b[1;32m      7\u001b[0m     \u001b[0;32mreturn\u001b[0m \u001b[0mHp\u001b[0m\u001b[0;34m\u001b[0m\u001b[0m\n\u001b[1;32m      8\u001b[0m \u001b[0;34m\u001b[0m\u001b[0m\n\u001b[0;32m----> 9\u001b[0;31m res = minimize(rosen, x0, method='Newton-CG',\n\u001b[0m\u001b[1;32m     10\u001b[0m                \u001b[0mjac\u001b[0m\u001b[0;34m=\u001b[0m\u001b[0mrosen_der\u001b[0m\u001b[0;34m,\u001b[0m \u001b[0mhessp\u001b[0m\u001b[0;34m=\u001b[0m\u001b[0mrosen_hess_p\u001b[0m\u001b[0;34m,\u001b[0m\u001b[0;34m\u001b[0m\u001b[0m\n\u001b[1;32m     11\u001b[0m                options={'xtol': 1e-8, 'disp': True})\n",
      "\u001b[0;31mNameError\u001b[0m: name 'minimize' is not defined"
     ]
    }
   ],
   "source": [
    "def rosen_hess_p(x, p):\n",
    "    x = np.asarray(x)\n",
    "    Hp = np.zeros_like(x)\n",
    "    Hp[0] = (1200*x[0]**2 - 400*x[1] + 2)*p[0] - 400*x[0]*p[1]\n",
    "    Hp[1:-1] = -400*x[:-2]*p[:-2]+(202+1200*x[1:-1]**2-400*x[2:])*p[1:-1]-400*x[1:-1]*p[2:]\n",
    "    Hp[-1] = -400*x[-2]*p[-2] + 200*p[-1]\n",
    "    return Hp\n",
    "\n",
    "res = minimize(rosen, x0, method='Newton-CG',\n",
    "               jac=rosen_der, hessp=rosen_hess_p,\n",
    "               options={'xtol': 1e-8, 'disp': True})\n"
   ]
  },
  {
   "cell_type": "code",
   "execution_count": 4,
   "metadata": {},
   "outputs": [
    {
     "name": "stdout",
     "output_type": "stream",
     "text": [
      "Preparing data...\n"
     ]
    }
   ],
   "source": [
    "def load_data():\n",
    "    X, y = datasets.fetch_openml('mnist_784', version=1, return_X_y=True)\n",
    "    X /= 255.\n",
    "    X -= X.mean(axis=0)\n",
    "\n",
    "    target_scaler = OneHotEncoder(sparse=False, categories='auto')\n",
    "    y = target_scaler.fit_transform(y.reshape(-1, 1))\n",
    "\n",
    "    return model_selection.train_test_split(\n",
    "        X.astype(np.float32),\n",
    "        y.astype(np.float32),\n",
    "        test_size=(1 / 7.))\n",
    "\n",
    "\n",
    "\n",
    "print(\"Preparing data...\")\n",
    "x_train, x_test, y_train, y_test = load_data()\n",
    "\n"
   ]
  },
  {
   "cell_type": "code",
   "execution_count": 9,
   "metadata": {},
   "outputs": [
    {
     "name": "stdout",
     "output_type": "stream",
     "text": [
      "[0. 0. 0. 0. 0. 0. 0. 0. 0. 1.]\n"
     ]
    }
   ],
   "source": [
    "print(y_test[0])"
   ]
  }
 ],
 "metadata": {
  "kernelspec": {
   "display_name": "Python 3",
   "language": "python",
   "name": "python3"
  },
  "language_info": {
   "codemirror_mode": {
    "name": "ipython",
    "version": 3
   },
   "file_extension": ".py",
   "mimetype": "text/x-python",
   "name": "python",
   "nbconvert_exporter": "python",
   "pygments_lexer": "ipython3",
   "version": "3.7.1"
  }
 },
 "nbformat": 4,
 "nbformat_minor": 1
}
